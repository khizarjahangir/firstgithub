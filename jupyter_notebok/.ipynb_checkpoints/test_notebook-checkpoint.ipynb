{
 "cells": [
  {
   "cell_type": "markdown",
   "id": "31f4589c",
   "metadata": {},
   "source": [
    "# Python chilla with Baba Aamar \n",
    "## Jupyter notebook practice"
   ]
  },
  {
   "cell_type": "markdown",
   "id": "614aea70",
   "metadata": {},
   "source": [
    "### 01 My first program in python"
   ]
  },
  {
   "cell_type": "code",
   "execution_count": 1,
   "id": "674aa3cc",
   "metadata": {},
   "outputs": [
    {
     "name": "stdout",
     "output_type": "stream",
     "text": [
      "5\n",
      "hello world\n",
      "we are learning python with khizar\n"
     ]
    }
   ],
   "source": [
    "print(2+3)\n",
    "print(\"hello world\")\n",
    "print(\"we are learning python with khizar\")"
   ]
  },
  {
   "cell_type": "markdown",
   "id": "b67d8e45",
   "metadata": {},
   "source": [
    "### 02 Operaters in Python"
   ]
  },
  {
   "cell_type": "code",
   "execution_count": 2,
   "id": "b2c1793b",
   "metadata": {},
   "outputs": [
    {
     "name": "stdout",
     "output_type": "stream",
     "text": [
      "5\n",
      "-2\n",
      "7\n",
      "1\n",
      "625\n",
      "6.5\n"
     ]
    }
   ],
   "source": [
    "print(2+3)\n",
    "print(2-4)\n",
    "print(35//5)\n",
    "print(13%2)\n",
    "print(25**2)\n",
    "\n",
    "print(3**2/2*3/3+6-4)  #PEMDAS # left to right seq for M D & A S\n",
    "\n"
   ]
  },
  {
   "cell_type": "markdown",
   "id": "6115febc",
   "metadata": {},
   "source": [
    "### 03 Strings in Python"
   ]
  },
  {
   "cell_type": "code",
   "execution_count": 3,
   "id": "f4e906ff",
   "metadata": {},
   "outputs": [
    {
     "name": "stdout",
     "output_type": "stream",
     "text": [
      "5\n",
      "hello world\n",
      "we are learning python with khizar\n",
      "test for single quotes\n",
      "test for double quotes\n",
      " test for triple quotes\n",
      "what's up     2\n"
     ]
    }
   ],
   "source": [
    "print(2+3)\n",
    "print(\"hello world\")\n",
    "print(\"we are learning python with khizar\")\n",
    "print('test for single quotes')\n",
    "print(\"test for double quotes\")\n",
    "print(''' test for triple quotes''')\n",
    "\n",
    "print(\"what's up     2\")"
   ]
  },
  {
   "cell_type": "markdown",
   "id": "143e20f0",
   "metadata": {},
   "source": [
    "### 04 Comments in Python"
   ]
  },
  {
   "cell_type": "code",
   "execution_count": 4,
   "id": "14c54714",
   "metadata": {},
   "outputs": [
    {
     "name": "stdout",
     "output_type": "stream",
     "text": [
      "how are you\n",
      "we are learning oython with aamar\n",
      "5\n"
     ]
    }
   ],
   "source": [
    "print(\"how are you\")                         # press the ctrl +/ for comment out\n",
    "print (\"we are learning oython with aamar\")  # print a string\n",
    "print(2+3)                                   # print a operater function"
   ]
  },
  {
   "cell_type": "markdown",
   "id": "2ef27205",
   "metadata": {},
   "source": [
    "### 05 Variables in Python"
   ]
  },
  {
   "cell_type": "code",
   "execution_count": 5,
   "id": "7ee0fc6f",
   "metadata": {},
   "outputs": [
    {
     "name": "stdout",
     "output_type": "stream",
     "text": [
      "5\n",
      "we are learning python with aamar\n",
      "15\n",
      "25\n",
      "<class 'int'>\n",
      "<class 'str'>\n",
      "<class 'str'>\n",
      "mangoes\n"
     ]
    }
   ],
   "source": [
    "# objects containing specific values\n",
    "x=5          # numeric or integer variable\n",
    "print(x)\n",
    "\n",
    "y=(\"we are learning python with aamar\") # string variable\n",
    "print(y)\n",
    "\n",
    "x=15\n",
    "print(x)     # execution is done desending order\n",
    "\n",
    "x=x+10\n",
    "print(x)\n",
    "\n",
    "# types/class of variable\n",
    "print(type(x))  #for class print\n",
    "print(type(y))   #for class print\n",
    "\n",
    "# rules to assign a variable\n",
    "# 1- The variables should contain letter, numbers or underscore\n",
    "# 2- Do not start with number (etc 2x)\n",
    "# 3- spaces are allowed\n",
    "# 4- do not use keyword used in python (etc mean, test, median..)\n",
    "# 5- short and descriptive\n",
    "# 6- case sensitive (lower or upper case, prefer lower)\n",
    "\n",
    "fruit_basket=8\n",
    "fruit_basket=\"mangoes\"\n",
    "print(type(fruit_basket))\n",
    "print(fruit_basket)"
   ]
  },
  {
   "cell_type": "markdown",
   "id": "462c3370",
   "metadata": {},
   "source": [
    "### 06 Operaters in Python"
   ]
  },
  {
   "cell_type": "code",
   "execution_count": 6,
   "id": "956ae933",
   "metadata": {},
   "outputs": [
    {
     "name": "stdout",
     "output_type": "stream",
     "text": [
      "what is your name?   khizar\n",
      "what is your age?   21\n",
      "hello khizar  , you are still young\n"
     ]
    }
   ],
   "source": [
    "#simple input function\n",
    "# fruit_basket=input(\"what is your favourite fruit?  \")\n",
    "# print=(fruit_basket)\n",
    "\n",
    "#2nd stage input function\n",
    "# name=input(\"what is your name? \")\n",
    "# greeting=\"hello\"\n",
    "# print(greeting, name)\n",
    "\n",
    "#another way of doing 2 stage input function\n",
    "# name=input(\"what is your name? \")\n",
    "# print(\"helo\", name)\n",
    "\n",
    "# 3 stage input function\n",
    "name=input(\"what is your name?   \")\n",
    "age=input(\"what is your age?   \")\n",
    "print (\"hello\", name, \" , you are still young\")\n"
   ]
  },
  {
   "cell_type": "markdown",
   "id": "ae6a4ba6",
   "metadata": {},
   "source": [
    "### 07 Conditional logics in Python"
   ]
  },
  {
   "cell_type": "code",
   "execution_count": 7,
   "id": "8439cf75",
   "metadata": {},
   "outputs": [
    {
     "name": "stdout",
     "output_type": "stream",
     "text": [
      "enter your age12\n",
      "False\n"
     ]
    }
   ],
   "source": [
    "# logical operators ae \"yes or no\" or \"true or false\" or \"1 or 0\"\n",
    "# equal to                  ==\n",
    "# not equal to              !=\n",
    "# less than                 <\n",
    "# greater than              >\n",
    "# less than or equal to     <=\n",
    "# greater than or equal to  >=\n",
    "\n",
    "# is 4 equal to 4?\n",
    "# print(4==4)\n",
    "# print(4!=4)\n",
    "# print(3<4)\n",
    "# print(5>=4)\n",
    "\n",
    "#applicaton of logical operaters\n",
    "# shmaraiz_age=4\n",
    "# school_req_age=5\n",
    "# print(shmaraiz_age==school_req_age)\n",
    "\n",
    "# another way\n",
    "school_req_age=4\n",
    "shamraiz_age=input(\"enter your age\")\n",
    "shamraiz_age=int(shamraiz_age)\n",
    "print(school_req_age==shamraiz_age)"
   ]
  },
  {
   "cell_type": "markdown",
   "id": "c32bf834",
   "metadata": {},
   "source": [
    "### 08 type conversion in Python"
   ]
  },
  {
   "cell_type": "code",
   "execution_count": 8,
   "id": "698235ce",
   "metadata": {},
   "outputs": [
    {
     "name": "stdout",
     "output_type": "stream",
     "text": [
      "enter your age11\n",
      "11 <class 'int'>\n"
     ]
    }
   ],
   "source": [
    "x =10\n",
    "y = 10.2\n",
    "z = \"khi\"\n",
    "\n",
    "# print(type (x))\n",
    "# print(type (y))\n",
    "# print (type (z))\n",
    "\n",
    "# implcite type conversion\n",
    "# x=x+y\n",
    "# print(x, \"type of x is\", type (x))\n",
    "\n",
    "# expicite type conversion\n",
    "age=input(\"enter your age\")\n",
    "age=int(age)\n",
    "print(age, type(age))\n"
   ]
  },
  {
   "cell_type": "markdown",
   "id": "1811c14a",
   "metadata": {},
   "source": [
    "### 09 if else elif in Python"
   ]
  },
  {
   "cell_type": "code",
   "execution_count": 9,
   "id": "0dfc2b30",
   "metadata": {},
   "outputs": [
    {
     "name": "stdout",
     "output_type": "stream",
     "text": [
      "he should join higher school\n"
     ]
    }
   ],
   "source": [
    "req_school_age= 5\n",
    "shamraz_age=8\n",
    "\n",
    "#can shamraz go to school\n",
    "\n",
    "if req_school_age==shamraz_age:\n",
    "    print(\"shamraz can go to school\")\n",
    "elif shamraz_age> req_school_age:\n",
    "    print(\"he should join higher school\")\n",
    "else:\n",
    "    print(\"shamraz can not go to school\")\n"
   ]
  },
  {
   "cell_type": "markdown",
   "id": "3e1c610b",
   "metadata": {},
   "source": [
    "### 10 functions in Python"
   ]
  },
  {
   "cell_type": "code",
   "execution_count": 10,
   "id": "31e16591",
   "metadata": {},
   "outputs": [
    {
     "name": "stdout",
     "output_type": "stream",
     "text": [
      "25\n"
     ]
    }
   ],
   "source": [
    "# print(\"we are learning with amar\")\n",
    "# print(\"we are learning with amar\")\n",
    "# print(\"we are learning with amar\")\n",
    "# print(\"we are learning with amar\")\n",
    "# print(\"we are learning with amar\")\n",
    "\n",
    "#defining a function\n",
    "# def print_khizar():\n",
    "#     print(\"we are learning with amar\")\n",
    "#     print(\"we are learning with amar\")\n",
    "#     print(\"we are learning with amar\")\n",
    "# print_khizar() \n",
    "\n",
    "# 2\n",
    "# def print_khizar():\n",
    "#     text = \"we are learnoing with amar\"\n",
    "#     print(text)\n",
    "#     print(text)\n",
    "#     print(text)\n",
    "# print_khizar()\n",
    "\n",
    "# 3\n",
    "# def print_khizar(text):\n",
    "#     print(text)\n",
    "#     print(text)\n",
    "#     print(text)\n",
    "# print_khizar(\"we are learnoing with amar\")\n",
    "\n",
    "# 4\n",
    "\n",
    "# def school_calculator(age,text):\n",
    "#     if age==5:\n",
    "#         print(\"shamraz can go to school\")\n",
    "#     elif age>5:\n",
    "#         print(\"shamraz should join higher school\")\n",
    "#     else:\n",
    "#         print(\"shamraz can not go to school\")\n",
    "    \n",
    "# school_calculator (8,\"shamraz\")\n",
    "\n",
    "def future_age(age):\n",
    " new_age= age +20\n",
    " return new_age\n",
    " print(new_age)\n",
    "\n",
    "future_predicted_age= future_age(5)  \n",
    "print(future_predicted_age)\n",
    "\n",
    "\n",
    "\n"
   ]
  },
  {
   "cell_type": "markdown",
   "id": "45a061af",
   "metadata": {},
   "source": [
    "### 11 loops in Python"
   ]
  },
  {
   "cell_type": "code",
   "execution_count": 11,
   "id": "21187cff",
   "metadata": {},
   "outputs": [
    {
     "name": "stdout",
     "output_type": "stream",
     "text": [
      "mon\n",
      "tue\n",
      "wed\n",
      "thur\n",
      "sat\n",
      "sun\n"
     ]
    }
   ],
   "source": [
    "#while and for loops\n",
    "#while loops\n",
    "\n",
    "# x=0\n",
    "# while (x<5):\n",
    "#     print(x)\n",
    "#     x=x+1\n",
    "\n",
    "#for loops\n",
    "# for x in range(5,12):\n",
    "#     print(x)\n",
    "\n",
    "#arrays\n",
    "days = [\"mon\",\"tue\",\"wed\",\"thur\",\"fri\",\"sat\",\"sun\"]\n",
    "for d in days:\n",
    "    # if (d==\"fri\"): break    #loop stops\n",
    "    if (d==\"fri\"): continue \n",
    "    print(d)\n",
    "    "
   ]
  },
  {
   "cell_type": "markdown",
   "id": "ca2aaaa7",
   "metadata": {},
   "source": [
    "### 12 loops in Python"
   ]
  },
  {
   "cell_type": "code",
   "execution_count": 12,
   "id": "58b76695",
   "metadata": {},
   "outputs": [
    {
     "name": "stdout",
     "output_type": "stream",
     "text": [
      "the value of pi is 3.141592653589793\n",
      "13.75\n"
     ]
    }
   ],
   "source": [
    "# if u want to print the value of pi\n",
    "import math\n",
    "print(\"the value of pi is\",math.pi)\n",
    "\n",
    "import statistics\n",
    "x= [10,10,30,5]\n",
    "print(statistics.mean(x))\n",
    "\n",
    "#numpy, pandas etc "
   ]
  },
  {
   "cell_type": "markdown",
   "id": "67cff172",
   "metadata": {},
   "source": [
    "### 13 Trouble shooting in Python"
   ]
  },
  {
   "cell_type": "code",
   "execution_count": 13,
   "id": "dd23cbc7",
   "metadata": {},
   "outputs": [],
   "source": [
    "# print(we are learning)  # syntax error\n",
    "\n",
    "#print(10/0)  #runtime error\n",
    "\n",
    "# name=\"khizar\"\n",
    "# print(\"hello name\")    #human error\n",
    "\n",
    "\n",
    "\n"
   ]
  }
 ],
 "metadata": {
  "kernelspec": {
   "display_name": "Python 3 (ipykernel)",
   "language": "python",
   "name": "python3"
  },
  "language_info": {
   "codemirror_mode": {
    "name": "ipython",
    "version": 3
   },
   "file_extension": ".py",
   "mimetype": "text/x-python",
   "name": "python",
   "nbconvert_exporter": "python",
   "pygments_lexer": "ipython3",
   "version": "3.9.7"
  }
 },
 "nbformat": 4,
 "nbformat_minor": 5
}
